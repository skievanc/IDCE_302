{
  "nbformat": 4,
  "nbformat_minor": 0,
  "metadata": {
    "colab": {
      "name": "coding_assignment_1.ipynb",
      "provenance": [],
      "authorship_tag": "ABX9TyOwAue1EsACGAAIaLiwMdvs"
    },
    "kernelspec": {
      "name": "python3",
      "display_name": "Python 3"
    }
  },
  "cells": [
    {
      "cell_type": "code",
      "metadata": {
        "id": "RqexLi8NXFh-"
      },
      "source": [
        "'''\r\n",
        "IDCE 302\r\n",
        "Author: Evan Collins\r\n",
        "Coding Assignment 1\r\n",
        "\r\n",
        "Setting up and testing out the programs for the course\r\n",
        "'''\r\n",
        "print(\"hello world\")\r\n",
        "print(\"my name is evan\")"
      ],
      "execution_count": null,
      "outputs": []
    }
  ]
}